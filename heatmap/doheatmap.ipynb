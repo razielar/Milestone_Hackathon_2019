{
 "cells": [
  {
   "cell_type": "code",
   "execution_count": null,
   "metadata": {},
   "outputs": [],
   "source": [
    "import os\n",
    "import heatmap\n",
    "from scipy import ndimage\n",
    "from skimage import io\n",
    "import numpy as np\n",
    "import matplotlib.pyplot as plt\n",
    "import random\n",
    "from skimage import transform"
   ]
  },
  {
   "cell_type": "code",
   "execution_count": null,
   "metadata": {},
   "outputs": [],
   "source": [
    "def add(image, heat_map, alpha=0.6, display=False, save=None, cmap='viridis', axis='on', verbose=False, outstring=None, filecount=None):\n",
    "\n",
    "    height = image.shape[0]\n",
    "    width = image.shape[1]\n",
    "\n",
    "    # resize heat map\n",
    "    heat_map_resized = transform.resize(heat_map, (height, width))\n",
    "\n",
    "    # normalize heat map\n",
    "    max_value = np.max(heat_map_resized)\n",
    "    min_value = np.min(heat_map_resized)\n",
    "    normalized_heat_map = (heat_map_resized - min_value) / (max_value - min_value)\n",
    "\n",
    "    # display\n",
    "    plt.ioff()\n",
    "    plt.figure(figsize=(16,13))\n",
    "    plt.imshow(image)\n",
    "    plt.imshow(255 * normalized_heat_map, alpha=alpha, cmap=cmap)\n",
    "    plt.axis(\"off\")\n",
    "    \n",
    "    plt.gca().set_axis_off()\n",
    "    plt.subplots_adjust(top = 1, bottom = 0, right = 1, left = 0, \n",
    "                hspace = 0, wspace = 0)\n",
    "    plt.margins(0,0)\n",
    "    plt.text(50, 50, outstring, fontsize=30, color = \"yellow\")\n",
    "\n",
    "    plt.savefig(outpath + \"/\" + \"{:02d}\".format(filecount) + \".jpg\", bbox_inches=\"tight\", pad_inches=0)"
   ]
  },
  {
   "cell_type": "code",
   "execution_count": null,
   "metadata": {},
   "outputs": [],
   "source": [
    "a = list(range(9,13))\n",
    "b = list(range(1, 11))\n",
    "a = [str(x) + \":00 AM\" for x in a]\n",
    "b = [str(x) + \":00 PM\" for x in b]\n",
    "hours = a + b\n",
    "\n",
    "# read image\n",
    "image_filename = 'input/empty_canvas.jpg'\n",
    "outpath = \"output/\"\n",
    "image = io.imread(image_filename)\n",
    "\n",
    "# create heat map\n",
    "for h, hour in enumerate(hours):\n",
    "    x = np.zeros((image.shape[0], image.shape[1]))\n",
    "    list_of_centroids = [(550, 680), (400, 400), (875, 400), (1100, 580), (1850, 600), (1600, 250), (1100, 200)]\n",
    "\n",
    "    for i, c in enumerate(list_of_centroids):\n",
    "        x[c[1], c[0]] = random.randint(1, 10)\n",
    "\n",
    "    # x[50, 50] = 1\n",
    "    heat_map = ndimage.filters.gaussian_filter(x, sigma=100)\n",
    "    add(image, heat_map, alpha=0.7, outstring = hour, filecount = h)"
   ]
  }
 ],
 "metadata": {
  "kernelspec": {
   "display_name": "Python 3",
   "language": "python",
   "name": "python3"
  },
  "language_info": {
   "codemirror_mode": {
    "name": "ipython",
    "version": 3
   },
   "file_extension": ".py",
   "mimetype": "text/x-python",
   "name": "python",
   "nbconvert_exporter": "python",
   "pygments_lexer": "ipython3",
   "version": "3.7.3"
  }
 },
 "nbformat": 4,
 "nbformat_minor": 2
}
